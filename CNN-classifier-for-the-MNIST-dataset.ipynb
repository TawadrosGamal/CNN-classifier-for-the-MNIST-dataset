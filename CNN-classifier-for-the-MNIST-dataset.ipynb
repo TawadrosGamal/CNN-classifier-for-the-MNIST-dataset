{
  "nbformat": 4,
  "nbformat_minor": 0,
  "metadata": {
    "coursera": {
      "course_slug": "tensor-flow-2-1",
      "graded_item_id": "g0YqY",
      "launcher_item_id": "n0OND"
    },
    "kernelspec": {
      "display_name": "Python 3",
      "language": "python",
      "name": "python3"
    },
    "language_info": {
      "codemirror_mode": {
        "name": "ipython",
        "version": 3
      },
      "file_extension": ".py",
      "mimetype": "text/x-python",
      "name": "python",
      "nbconvert_exporter": "python",
      "pygments_lexer": "ipython3",
      "version": "3.6.2"
    },
    "colab": {
      "name": "TF1.2.23_Programming_Assignment_Student_Notebook.ipynb",
      "provenance": []
    }
  },
  "cells": [
    {
      "cell_type": "markdown",
      "metadata": {
        "id": "N2QwoiJmDHkL",
        "colab_type": "text"
      },
      "source": [
        "\n",
        "\n",
        "\n",
        "### Let's get started!\n",
        "\n",
        "We'll start running some imports, and loading the dataset. You should not edit the following cell."
      ]
    },
    {
      "cell_type": "code",
      "metadata": {
        "id": "bp-WwR9xDHkP",
        "colab_type": "code",
        "colab": {}
      },
      "source": [
        "#### PACKAGE IMPORTS ####\n",
        "\n",
        "# Run this cell first to import all required packages\n",
        "\n",
        "import tensorflow as tf\n",
        "import pandas as pd\n",
        "import numpy as np\n",
        "import matplotlib.pyplot as plt\n",
        "%matplotlib inline"
      ],
      "execution_count": null,
      "outputs": []
    },
    {
      "cell_type": "markdown",
      "metadata": {
        "id": "-9lQyk6tDHlN",
        "colab_type": "text"
      },
      "source": [
        "#### Load and preprocess the data"
      ]
    },
    {
      "cell_type": "code",
      "metadata": {
        "id": "Mr9ksfmZDHlV",
        "colab_type": "code",
        "colab": {
          "base_uri": "https://localhost:8080/",
          "height": 51
        },
        "outputId": "e0c6d8bd-6434-46d0-f4ae-2929247ff9ca"
      },
      "source": [
        "#load the MNIST data\n",
        "\n",
        "mnist_data = tf.keras.datasets.mnist\n",
        "(train_images, train_labels), (test_images, test_labels) = mnist_data.load_data()"
      ],
      "execution_count": null,
      "outputs": [
        {
          "output_type": "stream",
          "text": [
            "Downloading data from https://storage.googleapis.com/tensorflow/tf-keras-datasets/mnist.npz\n",
            "11493376/11490434 [==============================] - 0s 0us/step\n"
          ],
          "name": "stdout"
        }
      ]
    },
    {
      "cell_type": "markdown",
      "metadata": {
        "id": "gcHNLfI-DHl3",
        "colab_type": "text"
      },
      "source": [
        "First, preprocess the data by scaling the training and test images so their values lie in the range from 0 to 1."
      ]
    },
    {
      "cell_type": "code",
      "metadata": {
        "id": "XofCv2vSDHl7",
        "colab_type": "code",
        "colab": {
          "base_uri": "https://localhost:8080/",
          "height": 197
        },
        "outputId": "6a7a4475-96f5-408b-c42a-2f6fecb0b366"
      },
      "source": [
        "#Scalling data function \n",
        "\n",
        "def scale_mnist_data(train_images, test_images):\n",
        "    \"\"\"\n",
        "    This function takes in the training and test images as loaded in the cell above, and scales them\n",
        "    so that they have minimum and maximum values equal to 0 and 1 respectively.\n",
        "    Your function should return a tuple (train_images, test_images) of scaled training and test images.\n",
        "    \"\"\"\n",
        "    train_images = train_images / 255.\n",
        "    test_images = test_images / 255.\n",
        "    return train_images, test_images\n",
        "scaled_train_images, scaled_test_images = scale_mnist_data(train_images, test_images)"
      ],
      "execution_count": 1,
      "outputs": [
        {
          "output_type": "error",
          "ename": "NameError",
          "evalue": "ignored",
          "traceback": [
            "\u001b[0;31m---------------------------------------------------------------------------\u001b[0m",
            "\u001b[0;31mNameError\u001b[0m                                 Traceback (most recent call last)",
            "\u001b[0;32m<ipython-input-1-38c36259d91d>\u001b[0m in \u001b[0;36m<module>\u001b[0;34m()\u001b[0m\n\u001b[1;32m     10\u001b[0m     \u001b[0mtest_images\u001b[0m \u001b[0;34m=\u001b[0m \u001b[0mtest_images\u001b[0m \u001b[0;34m/\u001b[0m \u001b[0;36m255.\u001b[0m\u001b[0;34m\u001b[0m\u001b[0;34m\u001b[0m\u001b[0m\n\u001b[1;32m     11\u001b[0m     \u001b[0;32mreturn\u001b[0m \u001b[0mtrain_images\u001b[0m\u001b[0;34m,\u001b[0m \u001b[0mtest_images\u001b[0m\u001b[0;34m\u001b[0m\u001b[0;34m\u001b[0m\u001b[0m\n\u001b[0;32m---> 12\u001b[0;31m \u001b[0mscaled_train_images\u001b[0m\u001b[0;34m,\u001b[0m \u001b[0mscaled_test_images\u001b[0m \u001b[0;34m=\u001b[0m \u001b[0mscale_mnist_data\u001b[0m\u001b[0;34m(\u001b[0m\u001b[0mtrain_images\u001b[0m\u001b[0;34m,\u001b[0m \u001b[0mtest_images\u001b[0m\u001b[0;34m)\u001b[0m\u001b[0;34m\u001b[0m\u001b[0;34m\u001b[0m\u001b[0m\n\u001b[0m",
            "\u001b[0;31mNameError\u001b[0m: name 'train_images' is not defined"
          ]
        }
      ]
    },
    {
      "cell_type": "markdown",
      "metadata": {
        "id": "cMVD1go5DHm1",
        "colab_type": "text"
      },
      "source": [
        "#### Build the convolutional neural network model"
      ]
    },
    {
      "cell_type": "markdown",
      "metadata": {
        "id": "1_CH9pkmDHm5",
        "colab_type": "text"
      },
      "source": [
        "\n",
        "* The model should take `scaled_train_images` or `scaled_test_images` as input.\n",
        "* A 2D convolutional layer with a 3x3 kernel and 8 filters. Use 'SAME' zero padding and ReLU activation functions. Make sure to provide the `input_shape` keyword argument in this first layer.\n",
        "* A max pooling layer, with a 2x2 window, and default strides.\n",
        "* A flatten layer, which unrolls the input into a one-dimensional tensor.\n",
        "* Two dense hidden layers, each with 64 units and ReLU activation functions.\n",
        "* A dense output layer with 10 units and the softmax activation function.\n"
      ]
    },
    {
      "cell_type": "code",
      "metadata": {
        "id": "ZvhpHYlkDHm_",
        "colab_type": "code",
        "colab": {}
      },
      "source": [
        "#Building the NN function\n",
        "\n",
        "def get_model():\n",
        "    \"\"\"\n",
        "    This function should build a Sequential model according to the above specification. Ensure the \n",
        "    weights are initialised by providing the input_shape argument in the first layer.\n",
        "    Your function should return the model.\n",
        "    \"\"\"\n",
        "    model = tf.keras.models.Sequential([\n",
        "        tf.keras.layers.Conv2D(8, 3, activation='relu', input_shape=(28, 28, 1), padding=\"SAME\"),\n",
        "        tf.keras.layers.MaxPooling2D(2),\n",
        "        tf.keras.layers.Flatten(),\n",
        "        tf.keras.layers.Dense(64, activation='relu'),\n",
        "        tf.keras.layers.Dense(64, activation='relu'),\n",
        "        tf.keras.layers.Dense(10, activation='softmax'),\n",
        "    ])\n",
        "    return model\n",
        "model = get_model()"
      ],
      "execution_count": null,
      "outputs": []
    },
    {
      "cell_type": "markdown",
      "metadata": {
        "id": "zzVzE6m3DHn-",
        "colab_type": "text"
      },
      "source": [
        "#### Compile the model\n",
        "\n",
        "You should now compile the model using the `compile` method. To do so, you need to specify an optimizer, a loss function and a metric to judge the performance of your model."
      ]
    },
    {
      "cell_type": "code",
      "metadata": {
        "id": "x5OwJBLBDHoB",
        "colab_type": "code",
        "colab": {}
      },
      "source": [
        "#Compile the mode function\n",
        "\n",
        "def compile_model(model):\n",
        "    \"\"\"\n",
        "    This function takes in the model returned from your get_model function, and compiles it with an optimiser,\n",
        "    loss function and metric.\n",
        "    Compile the model using the Adam optimiser (with default settings), the cross-entropy loss function and\n",
        "    accuracy as the only metric. \n",
        "    Your function doesn't need to return anything; the model will be compiled in-place.\n",
        "    \"\"\"\n",
        "    model.compile(optimizer='adam',\n",
        "                  loss='sparse_categorical_crossentropy',\n",
        "                  metrics=['accuracy'])\n",
        "compile_model(model)"
      ],
      "execution_count": null,
      "outputs": []
    },
    {
      "cell_type": "markdown",
      "metadata": {
        "id": "oY7NIr0oDHot",
        "colab_type": "text"
      },
      "source": [
        "#### Fit the model to the training data\n",
        "\n",
        "Now you should train the model on the MNIST dataset, using the model's `fit` method. Set the training to run for 10 epochs, and return the training history to be used for plotting the learning curves."
      ]
    },
    {
      "cell_type": "code",
      "metadata": {
        "id": "Ykd89-vQDHow",
        "colab_type": "code",
        "colab": {}
      },
      "source": [
        "#Training the model on the scaled data\n",
        "\n",
        "def train_model(model, scaled_train_images, train_labels):\n",
        "    \"\"\"\n",
        "    This function should train the model for 5 epochs on the scaled_train_images and train_labels. \n",
        "    Your function should return the training history, as returned by model.fit.\n",
        "    \"\"\"\n",
        "    \n",
        "    return model.fit(scaled_train_images[..., np.newaxis], train_labels, epochs=10)\n",
        "history = train_model(model, scaled_train_images, train_labels)"
      ],
      "execution_count": null,
      "outputs": []
    },
    {
      "cell_type": "markdown",
      "metadata": {
        "id": "xJ8W4HOqDHpc",
        "colab_type": "text"
      },
      "source": [
        "#### Plot the learning curves\n",
        "\n",
        "We will now plot two graphs:\n",
        "* Epoch vs accuracy\n",
        "* Epoch vs loss\n",
        "\n",
        "We will load the model history into a pandas `DataFrame` and use the `plot` method to output the required graphs."
      ]
    },
    {
      "cell_type": "code",
      "metadata": {
        "id": "wf2Nd7sEDHpf",
        "colab_type": "code",
        "colab": {}
      },
      "source": [
        "# Run this cell to load the model history into a pandas DataFrame\n",
        "\n",
        "frame = pd.DataFrame(history.history)"
      ],
      "execution_count": null,
      "outputs": []
    },
    {
      "cell_type": "code",
      "metadata": {
        "id": "stGft7PfDHp2",
        "colab_type": "code",
        "colab": {
          "base_uri": "https://localhost:8080/",
          "height": 312
        },
        "outputId": "d8555cd5-1f64-4f66-9d88-5db5da842e12"
      },
      "source": [
        "# Run this cell to make the Accuracy vs Epochs plot\n",
        "\n",
        "acc_plot = frame.plot(y=\"accuracy\", title=\"Accuracy vs Epochs\", legend=False)\n",
        "acc_plot.set(xlabel=\"Epochs\", ylabel=\"Accuracy\")"
      ],
      "execution_count": null,
      "outputs": [
        {
          "output_type": "execute_result",
          "data": {
            "text/plain": [
              "[Text(0, 0.5, 'Accuracy'), Text(0.5, 0, 'Epochs')]"
            ]
          },
          "metadata": {
            "tags": []
          },
          "execution_count": 13
        },
        {
          "output_type": "display_data",
          "data": {
            "image/png": "[encoded data removed]",
            "text/plain": [
              "<Figure size 432x288 with 1 Axes>"
            ]
          },
          "metadata": {
            "tags": [],
            "needs_background": "light"
          }
        }
      ]
    },
    {
      "cell_type": "code",
      "metadata": {
        "id": "hXjjwjauDHqM",
        "colab_type": "code",
        "colab": {
          "base_uri": "https://localhost:8080/",
          "height": 312
        },
        "outputId": "25386ca9-7705-4956-a0ff-95ce944ec11a"
      },
      "source": [
        "# Run this cell to make the Loss vs Epochs plot\n",
        "\n",
        "acc_plot = frame.plot(y=\"loss\", title = \"Loss vs Epochs\",legend=False)\n",
        "acc_plot.set(xlabel=\"Epochs\", ylabel=\"Loss\")"
      ],
      "execution_count": null,
      "outputs": [
        {
          "output_type": "execute_result",
          "data": {
            "text/plain": [
              "[Text(0, 0.5, 'Loss'), Text(0.5, 0, 'Epochs')]"
            ]
          },
          "metadata": {
            "tags": []
          },
          "execution_count": 14
        },
        {
          "output_type": "display_data",
          "data": {
            "image/png": "[encoded data removed]",
            "text/plain": [
              "<Figure size 432x288 with 1 Axes>"
            ]
          },
          "metadata": {
            "tags": [],
            "needs_background": "light"
          }
        }
      ]
    },
    {
      "cell_type": "markdown",
      "metadata": {
        "id": "angPezSaDHqh",
        "colab_type": "text"
      },
      "source": [
        "#### Evaluate the model\n",
        "\n",
        "Finally, you should evaluate the performance of your model on the test set, by calling the model's `evaluate` method."
      ]
    },
    {
      "cell_type": "code",
      "metadata": {
        "id": "SSferXJpDHqo",
        "colab_type": "code",
        "colab": {}
      },
      "source": [
        "#Evaluating the model\n",
        "\n",
        "def evaluate_model(model, scaled_test_images, test_labels):\n",
        "    \"\"\"\n",
        "    This function should evaluate the model on the scaled_test_images and test_labels. \n",
        "    Your function should return a tuple (test_loss, test_accuracy).\n",
        "    \"\"\"\n",
        "    \n",
        "    return model.evaluate(scaled_test_images[..., np.newaxis], test_labels, verbose=0)\n",
        "test_loss, test_accuracy = evaluate_model(model, scaled_test_images, test_labels)\n",
        "print(f\"Test loss: {test_loss}\")\n",
        "print(f\"Test accuracy: {test_accuracy}\")"
      ],
      "execution_count": null,
      "outputs": []
    },
    {
      "cell_type": "markdown",
      "metadata": {
        "id": "q7INedG2DHrT",
        "colab_type": "text"
      },
      "source": [
        "#### Model predictions\n",
        "\n",
        "Let's see some model predictions! We will randomly select four images from the test data, and display the image and label for each. \n",
        "\n",
        "For each test image, model's prediction (the label with maximum probability) is shown, together with a plot showing the model's categorical distribution."
      ]
    },
    {
      "cell_type": "code",
      "metadata": {
        "id": "KqSomhvuDHrW",
        "colab_type": "code",
        "colab": {
          "base_uri": "https://localhost:8080/",
          "height": 716
        },
        "outputId": "e28c9954-171b-41e6-8cd6-815ecb8013bd"
      },
      "source": [
        "# Run this cell to get model predictions on randomly selected test images\n",
        "\n",
        "num_test_images = scaled_test_images.shape[0]\n",
        "\n",
        "random_inx = np.random.choice(num_test_images, 4)\n",
        "random_test_images = scaled_test_images[random_inx, ...]\n",
        "random_test_labels = test_labels[random_inx, ...]\n",
        "\n",
        "predictions = model.predict(random_test_images[..., np.newaxis])\n",
        "\n",
        "fig, axes = plt.subplots(4, 2, figsize=(16, 12))\n",
        "fig.subplots_adjust(hspace=0.4, wspace=-0.2)\n",
        "\n",
        "for i, (prediction, image, label) in enumerate(zip(predictions, random_test_images, random_test_labels)):\n",
        "    axes[i, 0].imshow(image)\n",
        "    axes[i, 0].get_xaxis().set_visible(False)\n",
        "    axes[i, 0].get_yaxis().set_visible(False)\n",
        "    axes[i, 0].text(10., -1.5, f'Digit {label}')\n",
        "    axes[i, 1].bar(np.arange(len(prediction)), prediction)\n",
        "    axes[i, 1].set_xticks(np.arange(len(prediction)))\n",
        "    axes[i, 1].set_title(f\"Categorical distribution. Model prediction: {np.argmax(prediction)}\")\n",
        "    \n",
        "plt.show()"
      ],
      "execution_count": null,
      "outputs": [
        {
          "output_type": "display_data",
          "data": {
            "image/png": "[encoded data removed]",
            "text/plain": [
              "<Figure size 1152x864 with 8 Axes>"
            ]
          },
          "metadata": {
            "tags": [],
            "needs_background": "light"
          }
        }
      ]
    }
  ]
}